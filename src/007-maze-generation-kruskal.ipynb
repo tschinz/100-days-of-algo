{
 "cells": [
  {
   "cell_type": "markdown",
   "metadata": {},
   "source": [
    "# Maze Generation (Kruskal's Algorithm)\n",
    "\n",
    "[Kruskal's Algorithm](https://en.wikipedia.org/wiki/Kruskal%27s_algorithm) find the minimum spanning forest of an undirected edge-weighted graph. if the graph is connected, it find the minimum spanning tree.\n",
    "\n",
    "\n",
    "![Krukal Demo](./resources/007-kruskal-demo.gif)\n",
    "\n",
    "[Source: Wikipedia]\n",
    "\n",
    "The basic steps are:\n",
    "* First\n",
    "* if the value of the search key is less than the item in the middle of the interval, narrow the interval to the lower half.\n",
    "* Otherwise, narrow it to the upper half\n",
    "* Repeatedly check until the value is found or the interval is empty.\n",
    "\n",
    "![binary search depiction](./resources/006-binary-search-depiction.svg)\n",
    "\n",
    "### Solution\n",
    "\n",
    "Binary Search Algorithm basically ignores the half of the elements just after one comparison.\n",
    "\n",
    "* Compare x with the middle element.\n",
    "* If x matches with the middle element, we return the mid index.\n",
    "* Else If x is greater than the mid element, then x can only lie in the right half subarray after the mid element. So we recur for the right half.\n",
    "* Else (x is smaller) recur for the left half."
   ]
  },
  {
   "cell_type": "markdown",
   "metadata": {},
   "source": [
    "## Imports"
   ]
  },
  {
   "cell_type": "code",
   "execution_count": null,
   "metadata": {},
   "outputs": [],
   "source": []
  },
  {
   "cell_type": "markdown",
   "metadata": {},
   "source": [
    "## Algorithm"
   ]
  },
  {
   "cell_type": "code",
   "execution_count": 15,
   "metadata": {},
   "outputs": [],
   "source": [
    "def search(data, item):\n",
    "    left, right = 0, len(data) - 1\n",
    "    while left <= right:\n",
    "        middle = (left + right) // 2\n",
    "\n",
    "        if item < data[middle]:\n",
    "            right = middle - 1\n",
    "        elif item > data[middle]:\n",
    "            left = middle + 1\n",
    "        else:\n",
    "            return middle\n",
    "    return -1"
   ]
  },
  {
   "cell_type": "markdown",
   "metadata": {},
   "source": [
    "## Test"
   ]
  },
  {
   "cell_type": "code",
   "execution_count": 16,
   "metadata": {},
   "outputs": [
    {
     "name": "stdout",
     "output_type": "stream",
     "text": [
      "01101100\n",
      "01011010\n",
      "---------\n",
      "011000110\n"
     ]
    }
   ],
   "source": [
    "data = [2, 3, 4, 8, 22, 23, 24, 25, 26, 28, 31, 39, 40, 43, 45, 49, 54, 58, 59, 60, 72, 73, 76, 87, 95, 97, 98]\n",
    "data = sorted(data)\n",
    "\n",
    "search(data, 4)\n"
   ]
  }
 ],
 "metadata": {
  "interpreter": {
   "hash": "579658931a9ee5a566d859011b110d45b1307b50642b87f1e088320bdb784c2c"
  },
  "kernelspec": {
   "display_name": "Python 3.8.11 64-bit ('daysofalgo': conda)",
   "language": "python",
   "name": "python3"
  },
  "language_info": {
   "codemirror_mode": {
    "name": "ipython",
    "version": 3
   },
   "file_extension": ".py",
   "mimetype": "text/x-python",
   "name": "python",
   "nbconvert_exporter": "python",
   "pygments_lexer": "ipython3",
   "version": "3.8.11"
  },
  "orig_nbformat": 4
 },
 "nbformat": 4,
 "nbformat_minor": 2
}
