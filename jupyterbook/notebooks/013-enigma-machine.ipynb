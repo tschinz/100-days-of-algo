{
 "cells": [
  {
   "cell_type": "markdown",
   "metadata": {},
   "source": [
    "# Enigma Machine Emulator\n",
    "\n",
    "```{figure} resources/013-enigma_machine.jpg\n",
    "---\n",
    "width: 50%\n",
    "name: Key Exchange\n",
    "---\n",
    "Source: Wikipedia\n",
    "```\n",
    "\n",
    "[Enigma Machine](https://en.wikipedia.org/wiki/Enigma_machine) is the most powerful cipher machine used by Nazi Germany during the World War II. It has an electromechanical design which can scramble 26 Letters. When you press a button the corresponding light according to the enigma setting is lit up. It was invented by [Arthur Scherbius](https://en.wikipedia.org/wiki/Arthur_Scherbius) and [Richard Ritter](https://de.wikipedia.org/wiki/Ernst_Richard_Ritter).\n",
    "\n",
    "If plain test is entered, it is encoded into ciphertext and if ciphertext is entered the plain text is displayed. The encryption is based on [Caesar Cipher](https://en.wikipedia.org/wiki/Caesar_cipher).  It is one of the simplest and most widely used encryption techniques. The Alphabet is shifted by $k$ which connects different letters together. This means for a given cipher the letters always correspond to each other.\n",
    "\n",
    "```{important}\n",
    "   Caesar cipher offers nowadays essentially no communication security.\n",
    "```\n",
    "\n",
    "```{figure} ./resources/013-caesar_cipher.svg\n",
    "---\n",
    "width: 40%\n",
    "name: Caesar Cipher\n",
    "---\n",
    "Caesar Cipher with $k = 3$ Source: Wikipedia\n",
    "```\n",
    "\n",
    "## Terminology\n",
    "\n",
    "* Steckerbrett - \"Plugboard\" in front of the machine to connect two different letters together. This is an extra scramble layer\n",
    "* Rotors - located between the Plugboard and the Reflector, the three Rotors left, middle and right can be set to a given position to achieve a different scrambling\n",
    "* Reflector - The Reflector receives the signals from the left Rotor and sends it back to him, the Reflector scrambling can not be changed.\n",
    "\n",
    "## Algorithm\n",
    "\n",
    "The Enigma Machine works in a similar fashion with a more complex structure.\n",
    "\n",
    "```{figure} ./resources/013-enigma_diagram.jpg\n",
    "---\n",
    "width: 40%\n",
    "name: Enigma Diagram\n",
    "---\n",
    "Enigma Diagram Source: Louise Dade\n",
    "```"
   ]
  },
  {
   "cell_type": "markdown",
   "metadata": {},
   "source": [
    "## Imports"
   ]
  },
  {
   "cell_type": "code",
   "execution_count": 23,
   "metadata": {},
   "outputs": [],
   "source": [
    "import random"
   ]
  },
  {
   "cell_type": "markdown",
   "metadata": {},
   "source": [
    "## Algorithm"
   ]
  },
  {
   "cell_type": "code",
   "execution_count": 24,
   "metadata": {},
   "outputs": [],
   "source": []
  },
  {
   "cell_type": "markdown",
   "metadata": {},
   "source": [
    "## Test"
   ]
  },
  {
   "cell_type": "code",
   "execution_count": 25,
   "metadata": {},
   "outputs": [
    {
     "name": "stdout",
     "output_type": "stream",
     "text": [
      "Alice is alive\n",
      "                                        Bob is alive\n",
      "Alice generated shared base g: 43\n",
      "Alice generated shared prime p: 257\n",
      "Alice generated his secret key a: 4\n",
      "                                        Bob generated his secret key b: 131\n",
      "Alice generated his public key A: 187\n",
      "                                        Bob generated his public key B: 163\n",
      "Alice generated shared secret: 95\n",
      "                                        Bob generated shared secret: 95\n"
     ]
    }
   ],
   "source": []
  }
 ],
 "metadata": {
  "interpreter": {
   "hash": "579658931a9ee5a566d859011b110d45b1307b50642b87f1e088320bdb784c2c"
  },
  "kernelspec": {
   "display_name": "Python 3.8.11 64-bit ('daysofalgo': conda)",
   "language": "python",
   "name": "python3"
  },
  "language_info": {
   "codemirror_mode": {
    "name": "ipython",
    "version": 3
   },
   "file_extension": ".py",
   "mimetype": "text/x-python",
   "name": "python",
   "nbconvert_exporter": "python",
   "pygments_lexer": "ipython3",
   "version": "3.8.11"
  },
  "orig_nbformat": 4
 },
 "nbformat": 4,
 "nbformat_minor": 2
}
